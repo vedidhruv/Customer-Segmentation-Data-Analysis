{
 "cells": [
  {
   "cell_type": "markdown",
   "id": "b28e1958",
   "metadata": {},
   "source": [
    "## Cleaning Customer address data from the raw data excel sheet"
   ]
  },
  {
   "cell_type": "code",
   "execution_count": 1,
   "id": "2caadb12",
   "metadata": {},
   "outputs": [],
   "source": [
    "import pandas as pd\n",
    "import numpy as np"
   ]
  },
  {
   "cell_type": "code",
   "execution_count": 3,
   "id": "2e756a7f",
   "metadata": {},
   "outputs": [],
   "source": [
    "cust_add = pd.read_excel('Raw_data.xlsx', sheet_name='CustomerAddress')"
   ]
  },
  {
   "cell_type": "code",
   "execution_count": 4,
   "id": "cbadf014",
   "metadata": {},
   "outputs": [
    {
     "data": {
      "text/html": [
       "<div>\n",
       "<style scoped>\n",
       "    .dataframe tbody tr th:only-of-type {\n",
       "        vertical-align: middle;\n",
       "    }\n",
       "\n",
       "    .dataframe tbody tr th {\n",
       "        vertical-align: top;\n",
       "    }\n",
       "\n",
       "    .dataframe thead th {\n",
       "        text-align: right;\n",
       "    }\n",
       "</style>\n",
       "<table border=\"1\" class=\"dataframe\">\n",
       "  <thead>\n",
       "    <tr style=\"text-align: right;\">\n",
       "      <th></th>\n",
       "      <th>customer_id</th>\n",
       "      <th>address</th>\n",
       "      <th>postcode</th>\n",
       "      <th>state</th>\n",
       "      <th>country</th>\n",
       "      <th>property_valuation</th>\n",
       "    </tr>\n",
       "  </thead>\n",
       "  <tbody>\n",
       "    <tr>\n",
       "      <th>0</th>\n",
       "      <td>1</td>\n",
       "      <td>060 Morning Avenue</td>\n",
       "      <td>2016</td>\n",
       "      <td>New South Wales</td>\n",
       "      <td>Australia</td>\n",
       "      <td>10</td>\n",
       "    </tr>\n",
       "    <tr>\n",
       "      <th>1</th>\n",
       "      <td>2</td>\n",
       "      <td>6 Meadow Vale Court</td>\n",
       "      <td>2153</td>\n",
       "      <td>New South Wales</td>\n",
       "      <td>Australia</td>\n",
       "      <td>10</td>\n",
       "    </tr>\n",
       "    <tr>\n",
       "      <th>2</th>\n",
       "      <td>4</td>\n",
       "      <td>0 Holy Cross Court</td>\n",
       "      <td>4211</td>\n",
       "      <td>QLD</td>\n",
       "      <td>Australia</td>\n",
       "      <td>9</td>\n",
       "    </tr>\n",
       "    <tr>\n",
       "      <th>3</th>\n",
       "      <td>5</td>\n",
       "      <td>17979 Del Mar Point</td>\n",
       "      <td>2448</td>\n",
       "      <td>New South Wales</td>\n",
       "      <td>Australia</td>\n",
       "      <td>4</td>\n",
       "    </tr>\n",
       "    <tr>\n",
       "      <th>4</th>\n",
       "      <td>6</td>\n",
       "      <td>9 Oakridge Court</td>\n",
       "      <td>3216</td>\n",
       "      <td>VIC</td>\n",
       "      <td>Australia</td>\n",
       "      <td>9</td>\n",
       "    </tr>\n",
       "  </tbody>\n",
       "</table>\n",
       "</div>"
      ],
      "text/plain": [
       "   customer_id              address  postcode            state    country  \\\n",
       "0            1   060 Morning Avenue      2016  New South Wales  Australia   \n",
       "1            2  6 Meadow Vale Court      2153  New South Wales  Australia   \n",
       "2            4   0 Holy Cross Court      4211              QLD  Australia   \n",
       "3            5  17979 Del Mar Point      2448  New South Wales  Australia   \n",
       "4            6     9 Oakridge Court      3216              VIC  Australia   \n",
       "\n",
       "   property_valuation  \n",
       "0                  10  \n",
       "1                  10  \n",
       "2                   9  \n",
       "3                   4  \n",
       "4                   9  "
      ]
     },
     "execution_count": 4,
     "metadata": {},
     "output_type": "execute_result"
    }
   ],
   "source": [
    "cust_add.head()"
   ]
  },
  {
   "cell_type": "code",
   "execution_count": 5,
   "id": "bcb82198",
   "metadata": {},
   "outputs": [
    {
     "name": "stdout",
     "output_type": "stream",
     "text": [
      "<class 'pandas.core.frame.DataFrame'>\n",
      "RangeIndex: 3999 entries, 0 to 3998\n",
      "Data columns (total 6 columns):\n",
      " #   Column              Non-Null Count  Dtype \n",
      "---  ------              --------------  ----- \n",
      " 0   customer_id         3999 non-null   int64 \n",
      " 1   address             3999 non-null   object\n",
      " 2   postcode            3999 non-null   int64 \n",
      " 3   state               3999 non-null   object\n",
      " 4   country             3999 non-null   object\n",
      " 5   property_valuation  3999 non-null   int64 \n",
      "dtypes: int64(3), object(3)\n",
      "memory usage: 187.6+ KB\n"
     ]
    }
   ],
   "source": [
    "cust_add.info()"
   ]
  },
  {
   "cell_type": "markdown",
   "id": "0cf2eeea",
   "metadata": {},
   "source": [
    "The data type of columns looks good. Lets check for the data quality and apply data cleaning process where ever applicable to clean our dataset before performing any analysis"
   ]
  },
  {
   "cell_type": "markdown",
   "id": "db312a71",
   "metadata": {},
   "source": [
    "### Total Records"
   ]
  },
  {
   "cell_type": "code",
   "execution_count": 6,
   "id": "46471c8e",
   "metadata": {},
   "outputs": [
    {
     "name": "stdout",
     "output_type": "stream",
     "text": [
      "Total Records in dataset: 3999\n",
      "Total features in the dataset: 6\n"
     ]
    }
   ],
   "source": [
    "print(f\"Total Records in dataset: {len(cust_add)}\")\n",
    "print(f\"Total features in the dataset: {cust_add.shape[1]}\")"
   ]
  },
  {
   "cell_type": "markdown",
   "id": "1e96fa47",
   "metadata": {},
   "source": [
    "### Numeric Columns and Non Numeric Columns"
   ]
  },
  {
   "cell_type": "code",
   "execution_count": 7,
   "id": "010ab524",
   "metadata": {},
   "outputs": [
    {
     "name": "stdout",
     "output_type": "stream",
     "text": [
      "Numeric columns: ['customer_id' 'postcode' 'property_valuation']\n"
     ]
    }
   ],
   "source": [
    "# select numeric columns\n",
    "\n",
    "df_numeric = cust_add.select_dtypes(include=[np.number])\n",
    "numeric_cols = df_numeric.columns.values\n",
    "print(f\"Numeric columns: {numeric_cols}\")"
   ]
  },
  {
   "cell_type": "code",
   "execution_count": 8,
   "id": "5a401e49",
   "metadata": {},
   "outputs": [
    {
     "name": "stdout",
     "output_type": "stream",
     "text": [
      "Non Numeric columns: ['address' 'state' 'country']\n"
     ]
    }
   ],
   "source": [
    "# select non numeric columns\n",
    "\n",
    "df_non_numeric = cust_add.select_dtypes(exclude=[np.number])\n",
    "non_numeric_cols = df_non_numeric.columns.values\n",
    "print(f\"Non Numeric columns: {non_numeric_cols}\")"
   ]
  },
  {
   "cell_type": "markdown",
   "id": "2f92f43a",
   "metadata": {},
   "source": [
    "## Data Quality Checks\n",
    "### 1. Missing Values\n",
    "Checking for the presence of any missing values in the dataset. If missing values are present for a particular feature then depending upon the situation the feature may be either dropped(in case when major amount of data is missing) or an appropriate value will be imputed in the feature column with missing values."
   ]
  },
  {
   "cell_type": "code",
   "execution_count": 9,
   "id": "5ecd6c34",
   "metadata": {},
   "outputs": [
    {
     "data": {
      "text/plain": [
       "customer_id           0\n",
       "address               0\n",
       "postcode              0\n",
       "state                 0\n",
       "country               0\n",
       "property_valuation    0\n",
       "dtype: int64"
      ]
     },
     "execution_count": 9,
     "metadata": {},
     "output_type": "execute_result"
    }
   ],
   "source": [
    "# total number of missing values for each feature\n",
    "\n",
    "cust_add.isnull().sum()"
   ]
  },
  {
   "cell_type": "markdown",
   "id": "ce69d47c",
   "metadata": {},
   "source": [
    "`In this dataset there are no missing values`"
   ]
  },
  {
   "cell_type": "markdown",
   "id": "76b702ec",
   "metadata": {},
   "source": [
    "### 2. Inconsistency Check in Data\n",
    "We will check whether there is any inconsistent data/typo error data is present in the categorical columns\n",
    "The columns to be checked are `'address'`, `'postcode'`, `'state'`, `'country'`"
   ]
  },
  {
   "cell_type": "markdown",
   "id": "6ffe246f",
   "metadata": {},
   "source": [
    "#### 2.1 State"
   ]
  },
  {
   "cell_type": "code",
   "execution_count": 10,
   "id": "f4a44745",
   "metadata": {},
   "outputs": [
    {
     "data": {
      "text/plain": [
       "NSW                2054\n",
       "VIC                 939\n",
       "QLD                 838\n",
       "New South Wales      86\n",
       "Victoria             82\n",
       "Name: state, dtype: int64"
      ]
     },
     "execution_count": 10,
     "metadata": {},
     "output_type": "execute_result"
    }
   ],
   "source": [
    "cust_add['state'].value_counts()"
   ]
  },
  {
   "cell_type": "markdown",
   "id": "459b3c4a",
   "metadata": {},
   "source": [
    "Here there are inconsistencies in the state column of the dataset. For `New South Wales` and `Victoria` we have two values, one being the full name and the other being their short name. The state names should be standardized and columns with state as `New South Wales` will be replaced by `NSW` and columns with as `Victoria` will be replaced by `VIC`"
   ]
  },
  {
   "cell_type": "code",
   "execution_count": 11,
   "id": "ed84122d",
   "metadata": {},
   "outputs": [],
   "source": [
    "# function to replace state names with their abbreviations\n",
    "\n",
    "def state_abbrev(x):\n",
    "    if x == 'New South Wales':\n",
    "        return 'NSW'\n",
    "    elif x == 'Victoria':\n",
    "        return 'VIC'\n",
    "    else :\n",
    "        return x\n",
    "\n",
    "\n",
    "# Applying the above function to the state column\n",
    "cust_add['state'] = cust_add['state'].apply(state_abbrev)"
   ]
  },
  {
   "cell_type": "code",
   "execution_count": 12,
   "id": "975e35f6",
   "metadata": {},
   "outputs": [
    {
     "data": {
      "text/plain": [
       "NSW    2140\n",
       "VIC    1021\n",
       "QLD     838\n",
       "Name: state, dtype: int64"
      ]
     },
     "execution_count": 12,
     "metadata": {},
     "output_type": "execute_result"
    }
   ],
   "source": [
    "cust_add['state'].value_counts()"
   ]
  },
  {
   "cell_type": "markdown",
   "id": "d50bc3c7",
   "metadata": {},
   "source": [
    "### 2.2 Country"
   ]
  },
  {
   "cell_type": "code",
   "execution_count": 13,
   "id": "f62d13c4",
   "metadata": {},
   "outputs": [
    {
     "data": {
      "text/plain": [
       "Australia    3999\n",
       "Name: country, dtype: int64"
      ]
     },
     "execution_count": 13,
     "metadata": {},
     "output_type": "execute_result"
    }
   ],
   "source": [
    "cust_add['country'].value_counts()"
   ]
  },
  {
   "cell_type": "markdown",
   "id": "9d312dbc",
   "metadata": {},
   "source": [
    "There is no inconsistency of data in the Country column"
   ]
  },
  {
   "cell_type": "markdown",
   "id": "f003c89d",
   "metadata": {},
   "source": [
    "### 2.3 PostCode\n",
    "The Postcode column looks perfect. There is no inconsistency / typo in the data."
   ]
  },
  {
   "cell_type": "code",
   "execution_count": 14,
   "id": "f32c61b6",
   "metadata": {},
   "outputs": [
    {
     "data": {
      "text/plain": [
       "2170    31\n",
       "2155    30\n",
       "2145    30\n",
       "2153    29\n",
       "3977    26\n",
       "        ..\n",
       "3808     1\n",
       "3114     1\n",
       "4721     1\n",
       "4799     1\n",
       "3089     1\n",
       "Name: postcode, Length: 873, dtype: int64"
      ]
     },
     "execution_count": 14,
     "metadata": {},
     "output_type": "execute_result"
    }
   ],
   "source": [
    "cust_add['postcode'].value_counts()"
   ]
  },
  {
   "cell_type": "code",
   "execution_count": 15,
   "id": "30d0aa8d",
   "metadata": {},
   "outputs": [
    {
     "data": {
      "text/html": [
       "<div>\n",
       "<style scoped>\n",
       "    .dataframe tbody tr th:only-of-type {\n",
       "        vertical-align: middle;\n",
       "    }\n",
       "\n",
       "    .dataframe tbody tr th {\n",
       "        vertical-align: top;\n",
       "    }\n",
       "\n",
       "    .dataframe thead th {\n",
       "        text-align: right;\n",
       "    }\n",
       "</style>\n",
       "<table border=\"1\" class=\"dataframe\">\n",
       "  <thead>\n",
       "    <tr style=\"text-align: right;\">\n",
       "      <th></th>\n",
       "      <th>state</th>\n",
       "      <th>country</th>\n",
       "      <th>postcode</th>\n",
       "      <th>address</th>\n",
       "    </tr>\n",
       "  </thead>\n",
       "  <tbody>\n",
       "    <tr>\n",
       "      <th>0</th>\n",
       "      <td>NSW</td>\n",
       "      <td>Australia</td>\n",
       "      <td>2016</td>\n",
       "      <td>060 Morning Avenue</td>\n",
       "    </tr>\n",
       "    <tr>\n",
       "      <th>1</th>\n",
       "      <td>NSW</td>\n",
       "      <td>Australia</td>\n",
       "      <td>2153</td>\n",
       "      <td>6 Meadow Vale Court</td>\n",
       "    </tr>\n",
       "    <tr>\n",
       "      <th>2</th>\n",
       "      <td>QLD</td>\n",
       "      <td>Australia</td>\n",
       "      <td>4211</td>\n",
       "      <td>0 Holy Cross Court</td>\n",
       "    </tr>\n",
       "    <tr>\n",
       "      <th>3</th>\n",
       "      <td>NSW</td>\n",
       "      <td>Australia</td>\n",
       "      <td>2448</td>\n",
       "      <td>17979 Del Mar Point</td>\n",
       "    </tr>\n",
       "    <tr>\n",
       "      <th>4</th>\n",
       "      <td>VIC</td>\n",
       "      <td>Australia</td>\n",
       "      <td>3216</td>\n",
       "      <td>9 Oakridge Court</td>\n",
       "    </tr>\n",
       "    <tr>\n",
       "      <th>...</th>\n",
       "      <td>...</td>\n",
       "      <td>...</td>\n",
       "      <td>...</td>\n",
       "      <td>...</td>\n",
       "    </tr>\n",
       "    <tr>\n",
       "      <th>3994</th>\n",
       "      <td>VIC</td>\n",
       "      <td>Australia</td>\n",
       "      <td>3064</td>\n",
       "      <td>1482 Hauk Trail</td>\n",
       "    </tr>\n",
       "    <tr>\n",
       "      <th>3995</th>\n",
       "      <td>QLD</td>\n",
       "      <td>Australia</td>\n",
       "      <td>4511</td>\n",
       "      <td>57042 Village Green Point</td>\n",
       "    </tr>\n",
       "    <tr>\n",
       "      <th>3996</th>\n",
       "      <td>NSW</td>\n",
       "      <td>Australia</td>\n",
       "      <td>2756</td>\n",
       "      <td>87 Crescent Oaks Alley</td>\n",
       "    </tr>\n",
       "    <tr>\n",
       "      <th>3997</th>\n",
       "      <td>QLD</td>\n",
       "      <td>Australia</td>\n",
       "      <td>4032</td>\n",
       "      <td>8194 Lien Street</td>\n",
       "    </tr>\n",
       "    <tr>\n",
       "      <th>3998</th>\n",
       "      <td>NSW</td>\n",
       "      <td>Australia</td>\n",
       "      <td>2251</td>\n",
       "      <td>320 Acker Drive</td>\n",
       "    </tr>\n",
       "  </tbody>\n",
       "</table>\n",
       "<p>3999 rows × 4 columns</p>\n",
       "</div>"
      ],
      "text/plain": [
       "     state    country  postcode                    address\n",
       "0      NSW  Australia      2016         060 Morning Avenue\n",
       "1      NSW  Australia      2153        6 Meadow Vale Court\n",
       "2      QLD  Australia      4211         0 Holy Cross Court\n",
       "3      NSW  Australia      2448        17979 Del Mar Point\n",
       "4      VIC  Australia      3216           9 Oakridge Court\n",
       "...    ...        ...       ...                        ...\n",
       "3994   VIC  Australia      3064            1482 Hauk Trail\n",
       "3995   QLD  Australia      4511  57042 Village Green Point\n",
       "3996   NSW  Australia      2756     87 Crescent Oaks Alley\n",
       "3997   QLD  Australia      4032           8194 Lien Street\n",
       "3998   NSW  Australia      2251            320 Acker Drive\n",
       "\n",
       "[3999 rows x 4 columns]"
      ]
     },
     "execution_count": 15,
     "metadata": {},
     "output_type": "execute_result"
    }
   ],
   "source": [
    "cust_add[['state', 'country', 'postcode', 'address']].drop_duplicates()"
   ]
  },
  {
   "cell_type": "markdown",
   "id": "0158b207",
   "metadata": {},
   "source": [
    "### 3. Duplication Checks\n",
    "We need to ensure that there are no duplication of the records in the dataset. This may lead to discripency in the data analysis due to poor quality of the data used. If there are duplicate rows of data then we need to drop any such rows.\n",
    "For checking for duplicate records we need to firstly remove the primary key column of the dataset then apply drop_duplicates() function"
   ]
  },
  {
   "cell_type": "code",
   "execution_count": 16,
   "id": "a7481abf",
   "metadata": {},
   "outputs": [
    {
     "name": "stdout",
     "output_type": "stream",
     "text": [
      "Number of records after removing customer_id: 3999\n",
      "Number of records in original dataset: 3999\n"
     ]
    }
   ],
   "source": [
    "# Dropping primary key i.e. customer_id and storing into a temporary dataframe\n",
    "\n",
    "cust_add_temp = cust_add.drop('customer_id', axis=1).drop_duplicates()\n",
    "print(f\"Number of records after removing customer_id: {len(cust_add_temp)}\")\n",
    "print(f\"Number of records in original dataset: {len(cust_add)}\")"
   ]
  },
  {
   "cell_type": "markdown",
   "id": "8872dbb8",
   "metadata": {},
   "source": [
    "`Since both numbers are same. There were no duplicate records in the dataset`"
   ]
  },
  {
   "cell_type": "markdown",
   "id": "4ddaa0c6",
   "metadata": {},
   "source": [
    "### 4. Exporting the Cleaned Customer Address data to a csv file\n",
    "Currently the Customer Address is clean. Hence, we can export the data to a csv to continue our data analysis of Customer Segmentation by joining it to other tables"
   ]
  },
  {
   "cell_type": "code",
   "execution_count": 17,
   "id": "4f84ea0d",
   "metadata": {},
   "outputs": [],
   "source": [
    "cust_add.to_csv('CustomerAddress_cleaned.csv', index=False)"
   ]
  },
  {
   "cell_type": "markdown",
   "id": "e4187ada",
   "metadata": {},
   "source": [
    "### 5. Checking for Master Detail record counts\n",
    "Checking with the Master Table (CustomerDemographic_cleaned.csv) containing the entire Customer Data for the Customer IDs which are getting dropped from the Customer Address Dataset.\n",
    "* `Basically these are the Customers who have an address but are not a part of the Demographics dataset yet.`"
   ]
  },
  {
   "cell_type": "code",
   "execution_count": 19,
   "id": "a0c06a16",
   "metadata": {},
   "outputs": [],
   "source": [
    "cust_demo_detail = pd.read_csv('CustomerDemographic_cleaned.csv')"
   ]
  },
  {
   "cell_type": "code",
   "execution_count": 20,
   "id": "955457ee",
   "metadata": {},
   "outputs": [
    {
     "data": {
      "text/html": [
       "<div>\n",
       "<style scoped>\n",
       "    .dataframe tbody tr th:only-of-type {\n",
       "        vertical-align: middle;\n",
       "    }\n",
       "\n",
       "    .dataframe tbody tr th {\n",
       "        vertical-align: top;\n",
       "    }\n",
       "\n",
       "    .dataframe thead th {\n",
       "        text-align: right;\n",
       "    }\n",
       "</style>\n",
       "<table border=\"1\" class=\"dataframe\">\n",
       "  <thead>\n",
       "    <tr style=\"text-align: right;\">\n",
       "      <th></th>\n",
       "      <th>customer_id</th>\n",
       "      <th>first_name</th>\n",
       "      <th>last_name</th>\n",
       "      <th>gender</th>\n",
       "      <th>past_3_years_bike_related_purchases</th>\n",
       "      <th>DOB</th>\n",
       "      <th>job_title</th>\n",
       "      <th>job_industry_category</th>\n",
       "      <th>wealth_segment</th>\n",
       "      <th>deceased_indicator</th>\n",
       "      <th>owns_car</th>\n",
       "      <th>tenure</th>\n",
       "      <th>Age</th>\n",
       "    </tr>\n",
       "  </thead>\n",
       "  <tbody>\n",
       "    <tr>\n",
       "      <th>0</th>\n",
       "      <td>1</td>\n",
       "      <td>Laraine</td>\n",
       "      <td>Medendorp</td>\n",
       "      <td>Female</td>\n",
       "      <td>93</td>\n",
       "      <td>1953-10-12</td>\n",
       "      <td>Executive Secretary</td>\n",
       "      <td>Health</td>\n",
       "      <td>Mass Customer</td>\n",
       "      <td>N</td>\n",
       "      <td>Yes</td>\n",
       "      <td>11.0</td>\n",
       "      <td>70</td>\n",
       "    </tr>\n",
       "    <tr>\n",
       "      <th>1</th>\n",
       "      <td>2</td>\n",
       "      <td>Eli</td>\n",
       "      <td>Bockman</td>\n",
       "      <td>Male</td>\n",
       "      <td>81</td>\n",
       "      <td>1980-12-16</td>\n",
       "      <td>Administrative Officer</td>\n",
       "      <td>Financial Services</td>\n",
       "      <td>Mass Customer</td>\n",
       "      <td>N</td>\n",
       "      <td>Yes</td>\n",
       "      <td>16.0</td>\n",
       "      <td>43</td>\n",
       "    </tr>\n",
       "    <tr>\n",
       "      <th>2</th>\n",
       "      <td>3</td>\n",
       "      <td>Arlin</td>\n",
       "      <td>Dearle</td>\n",
       "      <td>Male</td>\n",
       "      <td>61</td>\n",
       "      <td>1954-01-20</td>\n",
       "      <td>Recruiting Manager</td>\n",
       "      <td>Property</td>\n",
       "      <td>Mass Customer</td>\n",
       "      <td>N</td>\n",
       "      <td>Yes</td>\n",
       "      <td>15.0</td>\n",
       "      <td>69</td>\n",
       "    </tr>\n",
       "    <tr>\n",
       "      <th>3</th>\n",
       "      <td>4</td>\n",
       "      <td>Talbot</td>\n",
       "      <td>None</td>\n",
       "      <td>Male</td>\n",
       "      <td>33</td>\n",
       "      <td>1961-10-03</td>\n",
       "      <td>None</td>\n",
       "      <td>IT</td>\n",
       "      <td>Mass Customer</td>\n",
       "      <td>N</td>\n",
       "      <td>No</td>\n",
       "      <td>7.0</td>\n",
       "      <td>62</td>\n",
       "    </tr>\n",
       "    <tr>\n",
       "      <th>4</th>\n",
       "      <td>5</td>\n",
       "      <td>Sheila-kathryn</td>\n",
       "      <td>Calton</td>\n",
       "      <td>Female</td>\n",
       "      <td>56</td>\n",
       "      <td>1977-05-13</td>\n",
       "      <td>Senior Editor</td>\n",
       "      <td>None</td>\n",
       "      <td>Affluent Customer</td>\n",
       "      <td>N</td>\n",
       "      <td>Yes</td>\n",
       "      <td>8.0</td>\n",
       "      <td>46</td>\n",
       "    </tr>\n",
       "  </tbody>\n",
       "</table>\n",
       "</div>"
      ],
      "text/plain": [
       "   customer_id      first_name  last_name  gender  \\\n",
       "0            1         Laraine  Medendorp  Female   \n",
       "1            2             Eli    Bockman    Male   \n",
       "2            3           Arlin     Dearle    Male   \n",
       "3            4          Talbot       None    Male   \n",
       "4            5  Sheila-kathryn     Calton  Female   \n",
       "\n",
       "   past_3_years_bike_related_purchases         DOB               job_title  \\\n",
       "0                                   93  1953-10-12     Executive Secretary   \n",
       "1                                   81  1980-12-16  Administrative Officer   \n",
       "2                                   61  1954-01-20      Recruiting Manager   \n",
       "3                                   33  1961-10-03                    None   \n",
       "4                                   56  1977-05-13           Senior Editor   \n",
       "\n",
       "  job_industry_category     wealth_segment deceased_indicator owns_car  \\\n",
       "0                Health      Mass Customer                  N      Yes   \n",
       "1    Financial Services      Mass Customer                  N      Yes   \n",
       "2              Property      Mass Customer                  N      Yes   \n",
       "3                    IT      Mass Customer                  N       No   \n",
       "4                  None  Affluent Customer                  N      Yes   \n",
       "\n",
       "   tenure  Age  \n",
       "0    11.0   70  \n",
       "1    16.0   43  \n",
       "2    15.0   69  \n",
       "3     7.0   62  \n",
       "4     8.0   46  "
      ]
     },
     "execution_count": 20,
     "metadata": {},
     "output_type": "execute_result"
    }
   ],
   "source": [
    "cust_demo_detail.head()"
   ]
  },
  {
   "cell_type": "code",
   "execution_count": 24,
   "id": "9067dd16",
   "metadata": {},
   "outputs": [
    {
     "name": "stdout",
     "output_type": "stream",
     "text": [
      "Total Number of records in CustomerDemographic dataset: 3912\n",
      "Total Number of records in CustomerAddress dataset: 3999\n",
      "In Demographic Dataset, 87 records are getting dropped due to data cleaning process in the Demographic dataset\n"
     ]
    }
   ],
   "source": [
    "print(f'Total Number of records in CustomerDemographic dataset: {cust_demo_detail.shape[0]}')\n",
    "print(f'Total Number of records in CustomerAddress dataset: {cust_add.shape[0]}')\n",
    "\n",
    "print(f'In Demographic Dataset, {cust_add.shape[0] - cust_demo_detail.shape[0]} records are getting dropped due to data cleaning process in the Demographic dataset')"
   ]
  },
  {
   "cell_type": "markdown",
   "id": "fdad3f64",
   "metadata": {},
   "source": [
    "### Customer IDs in the Address table getting dropped:"
   ]
  },
  {
   "cell_type": "code",
   "execution_count": 25,
   "id": "66985f9c",
   "metadata": {},
   "outputs": [
    {
     "data": {
      "text/html": [
       "<div>\n",
       "<style scoped>\n",
       "    .dataframe tbody tr th:only-of-type {\n",
       "        vertical-align: middle;\n",
       "    }\n",
       "\n",
       "    .dataframe tbody tr th {\n",
       "        vertical-align: top;\n",
       "    }\n",
       "\n",
       "    .dataframe thead th {\n",
       "        text-align: right;\n",
       "    }\n",
       "</style>\n",
       "<table border=\"1\" class=\"dataframe\">\n",
       "  <thead>\n",
       "    <tr style=\"text-align: right;\">\n",
       "      <th></th>\n",
       "      <th>customer_id</th>\n",
       "      <th>address</th>\n",
       "      <th>postcode</th>\n",
       "      <th>state</th>\n",
       "      <th>country</th>\n",
       "      <th>property_valuation</th>\n",
       "      <th>first_name</th>\n",
       "      <th>last_name</th>\n",
       "      <th>gender</th>\n",
       "      <th>past_3_years_bike_related_purchases</th>\n",
       "      <th>DOB</th>\n",
       "      <th>job_title</th>\n",
       "      <th>job_industry_category</th>\n",
       "      <th>wealth_segment</th>\n",
       "      <th>deceased_indicator</th>\n",
       "      <th>owns_car</th>\n",
       "      <th>tenure</th>\n",
       "      <th>Age</th>\n",
       "      <th>_merge</th>\n",
       "    </tr>\n",
       "  </thead>\n",
       "  <tbody>\n",
       "    <tr>\n",
       "      <th>0</th>\n",
       "      <td>1</td>\n",
       "      <td>060 Morning Avenue</td>\n",
       "      <td>2016</td>\n",
       "      <td>NSW</td>\n",
       "      <td>Australia</td>\n",
       "      <td>10</td>\n",
       "      <td>Laraine</td>\n",
       "      <td>Medendorp</td>\n",
       "      <td>Female</td>\n",
       "      <td>93.0</td>\n",
       "      <td>1953-10-12</td>\n",
       "      <td>Executive Secretary</td>\n",
       "      <td>Health</td>\n",
       "      <td>Mass Customer</td>\n",
       "      <td>N</td>\n",
       "      <td>Yes</td>\n",
       "      <td>11.0</td>\n",
       "      <td>70.0</td>\n",
       "      <td>both</td>\n",
       "    </tr>\n",
       "    <tr>\n",
       "      <th>1</th>\n",
       "      <td>2</td>\n",
       "      <td>6 Meadow Vale Court</td>\n",
       "      <td>2153</td>\n",
       "      <td>NSW</td>\n",
       "      <td>Australia</td>\n",
       "      <td>10</td>\n",
       "      <td>Eli</td>\n",
       "      <td>Bockman</td>\n",
       "      <td>Male</td>\n",
       "      <td>81.0</td>\n",
       "      <td>1980-12-16</td>\n",
       "      <td>Administrative Officer</td>\n",
       "      <td>Financial Services</td>\n",
       "      <td>Mass Customer</td>\n",
       "      <td>N</td>\n",
       "      <td>Yes</td>\n",
       "      <td>16.0</td>\n",
       "      <td>43.0</td>\n",
       "      <td>both</td>\n",
       "    </tr>\n",
       "    <tr>\n",
       "      <th>2</th>\n",
       "      <td>4</td>\n",
       "      <td>0 Holy Cross Court</td>\n",
       "      <td>4211</td>\n",
       "      <td>QLD</td>\n",
       "      <td>Australia</td>\n",
       "      <td>9</td>\n",
       "      <td>Talbot</td>\n",
       "      <td>None</td>\n",
       "      <td>Male</td>\n",
       "      <td>33.0</td>\n",
       "      <td>1961-10-03</td>\n",
       "      <td>None</td>\n",
       "      <td>IT</td>\n",
       "      <td>Mass Customer</td>\n",
       "      <td>N</td>\n",
       "      <td>No</td>\n",
       "      <td>7.0</td>\n",
       "      <td>62.0</td>\n",
       "      <td>both</td>\n",
       "    </tr>\n",
       "    <tr>\n",
       "      <th>3</th>\n",
       "      <td>5</td>\n",
       "      <td>17979 Del Mar Point</td>\n",
       "      <td>2448</td>\n",
       "      <td>NSW</td>\n",
       "      <td>Australia</td>\n",
       "      <td>4</td>\n",
       "      <td>Sheila-kathryn</td>\n",
       "      <td>Calton</td>\n",
       "      <td>Female</td>\n",
       "      <td>56.0</td>\n",
       "      <td>1977-05-13</td>\n",
       "      <td>Senior Editor</td>\n",
       "      <td>None</td>\n",
       "      <td>Affluent Customer</td>\n",
       "      <td>N</td>\n",
       "      <td>Yes</td>\n",
       "      <td>8.0</td>\n",
       "      <td>46.0</td>\n",
       "      <td>both</td>\n",
       "    </tr>\n",
       "    <tr>\n",
       "      <th>4</th>\n",
       "      <td>6</td>\n",
       "      <td>9 Oakridge Court</td>\n",
       "      <td>3216</td>\n",
       "      <td>VIC</td>\n",
       "      <td>Australia</td>\n",
       "      <td>9</td>\n",
       "      <td>Curr</td>\n",
       "      <td>Duckhouse</td>\n",
       "      <td>Male</td>\n",
       "      <td>35.0</td>\n",
       "      <td>1966-09-16</td>\n",
       "      <td>None</td>\n",
       "      <td>Retail</td>\n",
       "      <td>High Net Worth</td>\n",
       "      <td>N</td>\n",
       "      <td>Yes</td>\n",
       "      <td>13.0</td>\n",
       "      <td>57.0</td>\n",
       "      <td>both</td>\n",
       "    </tr>\n",
       "  </tbody>\n",
       "</table>\n",
       "</div>"
      ],
      "text/plain": [
       "   customer_id              address  postcode state    country  \\\n",
       "0            1   060 Morning Avenue      2016   NSW  Australia   \n",
       "1            2  6 Meadow Vale Court      2153   NSW  Australia   \n",
       "2            4   0 Holy Cross Court      4211   QLD  Australia   \n",
       "3            5  17979 Del Mar Point      2448   NSW  Australia   \n",
       "4            6     9 Oakridge Court      3216   VIC  Australia   \n",
       "\n",
       "   property_valuation      first_name  last_name  gender  \\\n",
       "0                  10         Laraine  Medendorp  Female   \n",
       "1                  10             Eli    Bockman    Male   \n",
       "2                   9          Talbot       None    Male   \n",
       "3                   4  Sheila-kathryn     Calton  Female   \n",
       "4                   9            Curr  Duckhouse    Male   \n",
       "\n",
       "   past_3_years_bike_related_purchases         DOB               job_title  \\\n",
       "0                                 93.0  1953-10-12     Executive Secretary   \n",
       "1                                 81.0  1980-12-16  Administrative Officer   \n",
       "2                                 33.0  1961-10-03                    None   \n",
       "3                                 56.0  1977-05-13           Senior Editor   \n",
       "4                                 35.0  1966-09-16                    None   \n",
       "\n",
       "  job_industry_category     wealth_segment deceased_indicator owns_car  \\\n",
       "0                Health      Mass Customer                  N      Yes   \n",
       "1    Financial Services      Mass Customer                  N      Yes   \n",
       "2                    IT      Mass Customer                  N       No   \n",
       "3                  None  Affluent Customer                  N      Yes   \n",
       "4                Retail     High Net Worth                  N      Yes   \n",
       "\n",
       "   tenure   Age _merge  \n",
       "0    11.0  70.0   both  \n",
       "1    16.0  43.0   both  \n",
       "2     7.0  62.0   both  \n",
       "3     8.0  46.0   both  \n",
       "4    13.0  57.0   both  "
      ]
     },
     "execution_count": 25,
     "metadata": {},
     "output_type": "execute_result"
    }
   ],
   "source": [
    "cust_drop = cust_add.merge(cust_demo_detail, left_on='customer_id', right_on='customer_id', how='left', indicator=True)\n",
    "\n",
    "cust_drop.head()"
   ]
  },
  {
   "cell_type": "code",
   "execution_count": null,
   "id": "3da97ee8",
   "metadata": {},
   "outputs": [],
   "source": []
  }
 ],
 "metadata": {
  "kernelspec": {
   "display_name": "base",
   "language": "python",
   "name": "python3"
  },
  "language_info": {
   "codemirror_mode": {
    "name": "ipython",
    "version": 3
   },
   "file_extension": ".py",
   "mimetype": "text/x-python",
   "name": "python",
   "nbconvert_exporter": "python",
   "pygments_lexer": "ipython3",
   "version": "3.11.4"
  }
 },
 "nbformat": 4,
 "nbformat_minor": 5
}
